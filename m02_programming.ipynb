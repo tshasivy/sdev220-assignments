{
 "cells": [
  {
   "cell_type": "markdown",
   "id": "520d51a7",
   "metadata": {},
   "source": [
    "4.1 Choose a number between 1 and 10 and assign it to the variable secret. Then, select another number between 1 and 10 and assign it to the variable guess. Next, write the conditional tests (if, else, and elif) to print the string 'too low' if guess is less than secret, 'too high' if greater than secret, and 'just right' if equal to secret."
   ]
  },
  {
   "cell_type": "code",
   "execution_count": 1,
   "id": "cc5216f4",
   "metadata": {},
   "outputs": [],
   "source": [
    "secret = 2\n",
    "guess = 4"
   ]
  },
  {
   "cell_type": "code",
   "execution_count": 2,
   "id": "54045d3e",
   "metadata": {},
   "outputs": [
    {
     "name": "stdout",
     "output_type": "stream",
     "text": [
      "too high\n"
     ]
    }
   ],
   "source": [
    "if (guess<secret):\n",
    "    print(\"too low\")\n",
    "elif (guess>secret):\n",
    "    print(\"too high\")\n",
    "else:\n",
    "    print(\"just right\")\n",
    "    "
   ]
  },
  {
   "cell_type": "markdown",
   "id": "35a56923",
   "metadata": {},
   "source": [
    "4.2 Assign True or False to the variables small and green. Write some if/else statements to print which of these matches those choices: cherry, pea, watermelon, pumpkin.\n"
   ]
  },
  {
   "cell_type": "code",
   "execution_count": 4,
   "id": "0c393757",
   "metadata": {},
   "outputs": [],
   "source": [
    "green = False\n",
    "small = False\n"
   ]
  },
  {
   "cell_type": "code",
   "execution_count": 5,
   "id": "9dc929c8",
   "metadata": {},
   "outputs": [
    {
     "name": "stdout",
     "output_type": "stream",
     "text": [
      "pumpkin\n"
     ]
    }
   ],
   "source": [
    "if small:\n",
    "    if green:\n",
    "        print(\"pea\")\n",
    "    else: print(\"cherry\")\n",
    "else:\n",
    "    if green:\n",
    "        print(\"watermelon\")\n",
    "    else: print(\"pumpkin\")    "
   ]
  },
  {
   "cell_type": "markdown",
   "id": "c7abe518",
   "metadata": {},
   "source": [
    "6.1 Use a for loop to print the values of the list [3, 2, 1, 0]."
   ]
  },
  {
   "cell_type": "code",
   "execution_count": 6,
   "id": "b4c7cd9a",
   "metadata": {},
   "outputs": [
    {
     "name": "stdout",
     "output_type": "stream",
     "text": [
      "3\n",
      "2\n",
      "1\n",
      "0\n"
     ]
    }
   ],
   "source": [
    "numbers = [3,2,1,0]\n",
    "for x in numbers:\n",
    "    print(x)"
   ]
  },
  {
   "cell_type": "markdown",
   "id": "d88f1a7f",
   "metadata": {},
   "source": [
    "6.2 Assign the value 7 to the variable guess_me, and the value 1 to the variable number. Write a while loop that compares number with guess_me. Print 'too low' if number is less than guess me. If number equals guess_me, print 'found it!' and then exit the loop. If number is greater than guess_me, print 'oops' and then exit the loop. Increment number at the end of the loop."
   ]
  },
  {
   "cell_type": "code",
   "execution_count": 8,
   "id": "07f48a50",
   "metadata": {},
   "outputs": [],
   "source": [
    "guess_me = 7\n",
    "number = 1"
   ]
  },
  {
   "cell_type": "code",
   "execution_count": 12,
   "id": "11c69d54",
   "metadata": {},
   "outputs": [
    {
     "name": "stdout",
     "output_type": "stream",
     "text": [
      "too low\n",
      "too low\n",
      "too low\n",
      "too low\n",
      "too low\n",
      "too low\n",
      "found it!\n"
     ]
    }
   ],
   "source": [
    "while(True):\n",
    "    if(number<guess_me):\n",
    "        print(\"too low\")\n",
    "    elif(number==guess_me):\n",
    "        print(\"found it!\")\n",
    "        break\n",
    "    elif(number>guess_me):\n",
    "        print(\"oops\")\n",
    "        break\n",
    "    number +=1"
   ]
  },
  {
   "cell_type": "markdown",
   "id": "98543a56",
   "metadata": {},
   "source": [
    "6.3 Assign the value 5 to the variable guess_me. Use a for loop to iterate a variable called number over range(10). If number is less than guess_me, print 'too low'. If it equals guess_me, print found it! and then break out of the for loop. If number is greater than guess_me, print 'oops' and then exit the loop."
   ]
  },
  {
   "cell_type": "code",
   "execution_count": 16,
   "id": "4c3b3112",
   "metadata": {},
   "outputs": [],
   "source": [
    "guess_me = 5\n"
   ]
  },
  {
   "cell_type": "code",
   "execution_count": 18,
   "id": "69de7f41",
   "metadata": {},
   "outputs": [
    {
     "name": "stdout",
     "output_type": "stream",
     "text": [
      "too low\n",
      "too low\n",
      "too low\n",
      "too low\n",
      "too low\n",
      "found it!\n"
     ]
    }
   ],
   "source": [
    "for number in range(10):\n",
    "    if(number<guess_me):\n",
    "        print(\"too low\")\n",
    "    if(number==guess_me):\n",
    "        print(\"found it!\")\n",
    "        break\n",
    "    if(number>guess_me):\n",
    "        print(\"oops\")\n",
    "        break"
   ]
  },
  {
   "cell_type": "code",
   "execution_count": null,
   "id": "f6cd1e96",
   "metadata": {},
   "outputs": [],
   "source": []
  }
 ],
 "metadata": {
  "kernelspec": {
   "display_name": "Python 3 (ipykernel)",
   "language": "python",
   "name": "python3"
  },
  "language_info": {
   "codemirror_mode": {
    "name": "ipython",
    "version": 3
   },
   "file_extension": ".py",
   "mimetype": "text/x-python",
   "name": "python",
   "nbconvert_exporter": "python",
   "pygments_lexer": "ipython3",
   "version": "3.11.5"
  }
 },
 "nbformat": 4,
 "nbformat_minor": 5
}
