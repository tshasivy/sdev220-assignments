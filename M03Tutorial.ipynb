{
 "cells": [
  {
   "cell_type": "markdown",
   "id": "6a86fd06",
   "metadata": {},
   "source": [
    "Given an array of size N containing only 0s, 1s, and 2s; sort the array in ascending order.\n"
   ]
  },
  {
   "cell_type": "code",
   "execution_count": 2,
   "id": "1b2559e3",
   "metadata": {},
   "outputs": [],
   "source": [
    "def sort012(array):\n",
    "    array.sort()\n",
    "    return array"
   ]
  },
  {
   "cell_type": "code",
   "execution_count": 3,
   "id": "f84b9a23",
   "metadata": {},
   "outputs": [
    {
     "name": "stdout",
     "output_type": "stream",
     "text": [
      "[0, 0, 1, 1, 2, 2, 2]\n"
     ]
    }
   ],
   "source": [
    "arr = [2,1,2,2,0,0,1]\n",
    "print(sort012(arr))"
   ]
  },
  {
   "cell_type": "markdown",
   "id": "898449d7",
   "metadata": {},
   "source": [
    "Given a sorted array arr[] of n elements, write a function to search a given element x in arr[] and return the index of x in the array."
   ]
  },
  {
   "cell_type": "code",
   "execution_count": 8,
   "id": "56b4ac25",
   "metadata": {},
   "outputs": [],
   "source": [
    "def binarysearch(arr, x):\n",
    "    low = 0\n",
    "    high = len(arr)-1\n",
    "    \n",
    "    while low <=high:\n",
    "        mid = (low+high)//2\n",
    "        \n",
    "        if arr[mid]==x:\n",
    "            return mid\n",
    "    \n",
    "        elif arr[mid]<x:\n",
    "                low = mid + 1\n",
    "            \n",
    "        else:\n",
    "                high = mid - 1"
   ]
  },
  {
   "cell_type": "code",
   "execution_count": 9,
   "id": "13a96a46",
   "metadata": {},
   "outputs": [
    {
     "name": "stdout",
     "output_type": "stream",
     "text": [
      "3\n"
     ]
    }
   ],
   "source": [
    "newArray = [1,2,3,4,5,6,7,8,9,10,11,12,13,14,15]\n",
    "number = 4\n",
    "print (binarysearch(newArray, number))"
   ]
  },
  {
   "cell_type": "code",
   "execution_count": null,
   "id": "6f9a3757",
   "metadata": {},
   "outputs": [],
   "source": []
  }
 ],
 "metadata": {
  "kernelspec": {
   "display_name": "Python 3 (ipykernel)",
   "language": "python",
   "name": "python3"
  },
  "language_info": {
   "codemirror_mode": {
    "name": "ipython",
    "version": 3
   },
   "file_extension": ".py",
   "mimetype": "text/x-python",
   "name": "python",
   "nbconvert_exporter": "python",
   "pygments_lexer": "ipython3",
   "version": "3.11.5"
  }
 },
 "nbformat": 4,
 "nbformat_minor": 5
}
